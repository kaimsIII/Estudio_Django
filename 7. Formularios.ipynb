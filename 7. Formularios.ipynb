{
 "cells": [
  {
   "cell_type": "markdown",
   "id": "298ef4c4-97d9-4b21-b5d1-0946e453d45c",
   "metadata": {},
   "source": [
    "## **6. Formularios (Crear Formularios con HTML y Django)**  \n",
    "Para recibir datos del usuario, usamos formularios HTML.\n",
    "\n",
    "📌 **Ejemplo: Un formulario simple en `home.html`:**  \n",
    "```html\n",
    "{% extends \"mi_app/base.html\" %}\n",
    "\n",
    "{% block title %}Inicio{% endblock %}\n",
    "\n",
    "{% block content %}\n",
    "    <h2>Bienvenido a Django</h2>\n",
    "    <p>Este es un sitio dinámico.</p>\n",
    "\n",
    "    <!-- Aquí agregamos el formulario -->\n",
    "    <form method=\"post\">\n",
    "        {% csrf_token %}\n",
    "        <label>Nombre:</label>\n",
    "        <input type=\"text\" name=\"nombre\">\n",
    "        <button type=\"submit\">Enviar</button>\n",
    "    </form>\n",
    "{% endblock %}\n",
    "\n",
    "```\n",
    "\n",
    "📌 **En `views.py`, manejar el formulario:**  \n",
    "```python\n",
    "def home(request):\n",
    "    if request.method == \"POST\":\n",
    "        nombre = request.POST.get(\"nombre\")\n",
    "        print(f\"Nombre recibido: {nombre}\")\n",
    "    return render(request, 'mi_app/home.html')\n",
    "```\n",
    "✅ Ahora, al enviar el formulario, Django imprimirá el nombre en la consola.\n"
   ]
  }
 ],
 "metadata": {
  "kernelspec": {
   "display_name": "Python 3 (ipykernel)",
   "language": "python",
   "name": "python3"
  },
  "language_info": {
   "codemirror_mode": {
    "name": "ipython",
    "version": 3
   },
   "file_extension": ".py",
   "mimetype": "text/x-python",
   "name": "python",
   "nbconvert_exporter": "python",
   "pygments_lexer": "ipython3",
   "version": "3.12.7"
  }
 },
 "nbformat": 4,
 "nbformat_minor": 5
}
