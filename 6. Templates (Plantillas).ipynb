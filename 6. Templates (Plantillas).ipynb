{
 "cells": [
  {
   "cell_type": "markdown",
   "id": "42e2c985-a48d-4b90-8878-faf121d5c54a",
   "metadata": {},
   "source": [
    "## **5. Template Inheritance (extends y block)**  \n",
    "Django permite **heredar templates** para evitar repetir código.  \n",
    "\n",
    "### **5.1. Crear una Base (`base.html`)**  \n",
    "📌 **En `mi_app/templates/mi_app/base.html`:**  \n",
    "```html\n",
    "<!DOCTYPE html>\n",
    "<html>\n",
    "<head>\n",
    "    <title>{% block title %}Mi Sitio{% endblock %}</title>\n",
    "</head>\n",
    "<body>\n",
    "    <header>\n",
    "        <h1>Mi Aplicación Django</h1>\n",
    "    </header>\n",
    "    <main>\n",
    "        {% block content %}{% endblock %}\n",
    "    </main>\n",
    "</body>\n",
    "</html>\n",
    "```\n",
    "\n",
    "---\n",
    "\n",
    "### **5.2. Usar `extends` en `home.html`**  \n",
    "📌 **Modifica `home.html` para heredar de `base.html`:**  \n",
    "```html\n",
    "{% extends \"mi_app/base.html\" %}\n",
    "\n",
    "{% block title %}Inicio{% endblock %}\n",
    "\n",
    "{% block content %}\n",
    "    <h2>Bienvenido a Django</h2>\n",
    "    <p>Este es un sitio dinámico.</p>\n",
    "{% endblock %}\n",
    "```\n",
    "✅ **Ahora, `home.html` usará la estructura de `base.html`**, pero podrá modificar su contenido.\n"
   ]
  }
 ],
 "metadata": {
  "kernelspec": {
   "display_name": "Python 3 (ipykernel)",
   "language": "python",
   "name": "python3"
  },
  "language_info": {
   "codemirror_mode": {
    "name": "ipython",
    "version": 3
   },
   "file_extension": ".py",
   "mimetype": "text/x-python",
   "name": "python",
   "nbconvert_exporter": "python",
   "pygments_lexer": "ipython3",
   "version": "3.12.7"
  }
 },
 "nbformat": 4,
 "nbformat_minor": 5
}
