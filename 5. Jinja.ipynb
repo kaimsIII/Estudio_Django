{
 "cells": [
  {
   "cell_type": "markdown",
   "id": "73b62b91-e097-42c4-8fff-6e607ddd9089",
   "metadata": {},
   "source": [
    "## **3. Jinja Loops (Uso de `for` en Templates)**  \n",
    "Django usa **Jinja2**, un motor de plantillas que permite usar estructuras de control como bucles (`for`) y condicionales (`if`).\n",
    "\n",
    "### **Ejemplo: Mostrar Usuarios en un Template**  \n",
    "📌 **Modifica `views.py` para pasar datos al template:**  \n",
    "```python\n",
    "from .models import Usuario\n",
    "\n",
    "def home(request):\n",
    "    usuarios = Usuario.objects.all()  # Obtener todos los usuarios\n",
    "    return render(request, 'mi_app/home.html', {'usuarios': usuarios})\n",
    "```\n",
    "\n",
    "📌 **Modifica `home.html` para mostrar la lista de usuarios:**  \n",
    "```html\n",
    "<!DOCTYPE html>\n",
    "<html>\n",
    "<head>\n",
    "    <title>Mi Página</title>\n",
    "</head>\n",
    "<body>\n",
    "    <h1>Bienvenido a Django</h1>\n",
    "    <p>Este es un ejemplo de template.</p>\n",
    "\n",
    "    <h1>Lista de Usuarios</h1>\n",
    "    <ul>\n",
    "        {% for usuario in usuarios %}\n",
    "            <li>{{ usuario.nombre }} - {{ usuario.email }}</li>\n",
    "        {% endfor %}\n",
    "    </ul>\n",
    "</body>\n",
    "</html>\n",
    "\n",
    "```\n",
    "✅ Ahora, en `http://127.0.0.1:8000/`, verás una lista con los usuarios guardados.\n",
    "\n",
    "---\n",
    "\n"
   ]
  },
  {
   "cell_type": "markdown",
   "id": "b57f9bf7-06b4-4d0b-94a7-06d3e0881d2b",
   "metadata": {},
   "source": [
    "## **4. Jinja Conditionals (if, else, elif en templates)**  \n",
    "Podemos mostrar contenido condicionalmente en los templates.\n",
    "\n",
    "📌 Ejemplo: Mostrar un mensaje **si no hay usuarios:**  \n",
    "```html\n",
    "<!DOCTYPE html>\n",
    "<html>\n",
    "<head>\n",
    "    <title>Mi Página</title>\n",
    "</head>\n",
    "<body>\n",
    "    <h1>Bienvenido a Django</h1>\n",
    "    <p>Este es un ejemplo de template.</p>\n",
    "\n",
    "    <h1>Lista de Usuarios</h1>\n",
    "    {% if usuarios %}\n",
    "        <ul>\n",
    "            {% for usuario in usuarios %}\n",
    "                <li>{{ usuario.nombre }} - {{ usuario.email }}</li>\n",
    "            {% endfor %}\n",
    "        </ul>\n",
    "    {% else %}\n",
    "        <p>No hay usuarios registrados.</p>\n",
    "    {% endif %}\n",
    "</body>\n",
    "</html>\n",
    "\n",
    "```\n",
    "✅ Si la base de datos está vacía, mostrará el mensaje `\"No hay usuarios registrados\"`.\n"
   ]
  }
 ],
 "metadata": {
  "kernelspec": {
   "display_name": "Python 3 (ipykernel)",
   "language": "python",
   "name": "python3"
  },
  "language_info": {
   "codemirror_mode": {
    "name": "ipython",
    "version": 3
   },
   "file_extension": ".py",
   "mimetype": "text/x-python",
   "name": "python",
   "nbconvert_exporter": "python",
   "pygments_lexer": "ipython3",
   "version": "3.12.7"
  }
 },
 "nbformat": 4,
 "nbformat_minor": 5
}
